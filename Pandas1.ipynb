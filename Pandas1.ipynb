{
 "cells": [
  {
   "cell_type": "markdown",
   "id": "56277773-730d-433c-8aa3-cca865f7b6a9",
   "metadata": {},
   "source": [
    "# <span style=\"color:maroon\"> **PANDAS**\n",
    "\n",
    "*Python Software Library* :\n",
    "Providing high-performance, easy-to-use data structures and data analysis tools for the Python programming language"
   ]
  },
  {
   "cell_type": "code",
   "execution_count": 60,
   "id": "662dd753-3392-4f5c-b26d-a40cf6773fb4",
   "metadata": {},
   "outputs": [],
   "source": [
    "import pandas as pd                       #importing the library "
   ]
  },
  {
   "cell_type": "markdown",
   "id": "8f34cb04-5114-4e29-9258-468bbe64df54",
   "metadata": {},
   "source": [
    "1. To manually store data in a table we create a DataFrame.\n",
    "\n",
    "2. DataFrame is a 2-dimensional data structure that can store data of different types (including characters, integers, floating point values, categorical data and more) in columns. \n",
    "\n",
    ">Dictionary and Dataframes are almost similar.\n",
    ">\n",
    ">In Dataframes the size of every array must be same.\n",
    ">\n",
    ">Dictionary keys in dataframes are called: Column Headers.\n",
    ">\n",
    ">Dictionary values in dataframes are called: Column values."
   ]
  },
  {
   "cell_type": "code",
   "execution_count": 61,
   "id": "70b99e72-c771-48be-b8e9-ed16776582cf",
   "metadata": {},
   "outputs": [
    {
     "data": {
      "text/html": [
       "<div>\n",
       "<style scoped>\n",
       "    .dataframe tbody tr th:only-of-type {\n",
       "        vertical-align: middle;\n",
       "    }\n",
       "\n",
       "    .dataframe tbody tr th {\n",
       "        vertical-align: top;\n",
       "    }\n",
       "\n",
       "    .dataframe thead th {\n",
       "        text-align: right;\n",
       "    }\n",
       "</style>\n",
       "<table border=\"1\" class=\"dataframe\">\n",
       "  <thead>\n",
       "    <tr style=\"text-align: right;\">\n",
       "      <th></th>\n",
       "      <th>Name</th>\n",
       "      <th>Age</th>\n",
       "      <th>Field</th>\n",
       "      <th>Blood Group</th>\n",
       "      <th>Marks</th>\n",
       "    </tr>\n",
       "  </thead>\n",
       "  <tbody>\n",
       "    <tr>\n",
       "      <th>0</th>\n",
       "      <td>Meerab</td>\n",
       "      <td>19</td>\n",
       "      <td>Bioinformatics</td>\n",
       "      <td>A</td>\n",
       "      <td>95</td>\n",
       "    </tr>\n",
       "    <tr>\n",
       "      <th>1</th>\n",
       "      <td>Fatimah</td>\n",
       "      <td>8</td>\n",
       "      <td>none</td>\n",
       "      <td>AB</td>\n",
       "      <td>100</td>\n",
       "    </tr>\n",
       "    <tr>\n",
       "      <th>2</th>\n",
       "      <td>Zawiar</td>\n",
       "      <td>22</td>\n",
       "      <td>AI</td>\n",
       "      <td>B</td>\n",
       "      <td>90</td>\n",
       "    </tr>\n",
       "  </tbody>\n",
       "</table>\n",
       "</div>"
      ],
      "text/plain": [
       "      Name  Age           Field Blood Group  Marks\n",
       "0   Meerab   19  Bioinformatics           A     95\n",
       "1  Fatimah    8            none          AB    100\n",
       "2   Zawiar   22              AI           B     90"
      ]
     },
     "execution_count": 61,
     "metadata": {},
     "output_type": "execute_result"
    }
   ],
   "source": [
    "#creating a dataframe and storing it in variable \"df\"\n",
    "df=pd.DataFrame ({\n",
    "    \"Name\" : [\"Meerab\", \"Fatimah\" ,\"Zawiar\"],\n",
    "    \"Age\"  : [ 19, 8, 22] ,\n",
    "    \"Field\": [\"Bioinformatics\", \"none\" , \"AI\"],\n",
    "    \"Blood Group\" : [ \"A\" , \"AB\" , \"B\" ],\n",
    "    \"Marks\" : [ 95, 100, 90]\n",
    "})\n",
    "df"
   ]
  },
  {
   "cell_type": "markdown",
   "id": "9be80140-3cb8-4a1d-882a-7869d05fbe94",
   "metadata": {},
   "source": [
    "### Creating Series"
   ]
  },
  {
   "cell_type": "code",
   "execution_count": 62,
   "id": "8018c6f8-8cf0-452f-9f32-54c1fba338e4",
   "metadata": {},
   "outputs": [
    {
     "data": {
      "text/plain": [
       "0    6\n",
       "1    8\n",
       "2    5\n",
       "3    4\n",
       "dtype: int64"
      ]
     },
     "execution_count": 62,
     "metadata": {},
     "output_type": "execute_result"
    }
   ],
   "source": [
    "#column in a dataframe is called series.\n",
    "\n",
    "s1 = pd.Series ([6,8,5,4])\n",
    "s1                                        "
   ]
  },
  {
   "cell_type": "code",
   "execution_count": 63,
   "id": "cadb9433-8f05-4580-9fa2-8a27057860de",
   "metadata": {},
   "outputs": [
    {
     "data": {
      "text/plain": [
       "0    6.0\n",
       "1    8.0\n",
       "2    5.0\n",
       "3    4.0\n",
       "Name: Marks, dtype: float64"
      ]
     },
     "execution_count": 63,
     "metadata": {},
     "output_type": "execute_result"
    }
   ],
   "source": [
    "s1=pd.Series ([6,8,5,4],name=\"Marks\",dtype=\"float64\")        #naming the series \"marks\". Changing dtype of Series.\n",
    "s1"
   ]
  },
  {
   "cell_type": "markdown",
   "id": "6b6f4d03-ea50-4d2c-b23a-1fd19afdd3a6",
   "metadata": {},
   "source": [
    "### Selecting individual column from dataframe"
   ]
  },
  {
   "cell_type": "code",
   "execution_count": 64,
   "id": "630bbe44-cb5a-43c7-9f6c-8c5dcad8d718",
   "metadata": {},
   "outputs": [
    {
     "data": {
      "text/plain": [
       "0     Meerab\n",
       "1    Fatimah\n",
       "2     Zawiar\n",
       "Name: Name, dtype: object"
      ]
     },
     "execution_count": 64,
     "metadata": {},
     "output_type": "execute_result"
    }
   ],
   "source": [
    "name=df[\"Name\"]\n",
    "name"
   ]
  },
  {
   "cell_type": "code",
   "execution_count": 65,
   "id": "a0b0a6dc-bdc7-44e7-afbd-e99ee7f5ad95",
   "metadata": {},
   "outputs": [
    {
     "data": {
      "text/plain": [
       "pandas.core.series.Series"
      ]
     },
     "execution_count": 65,
     "metadata": {},
     "output_type": "execute_result"
    }
   ],
   "source": [
    "type(s1)             #to find data type"
   ]
  },
  {
   "cell_type": "code",
   "execution_count": 66,
   "id": "606f2d41-5539-4528-850f-1392b1fc0483",
   "metadata": {},
   "outputs": [
    {
     "data": {
      "text/plain": [
       "pandas.core.frame.DataFrame"
      ]
     },
     "execution_count": 66,
     "metadata": {},
     "output_type": "execute_result"
    }
   ],
   "source": [
    "type(df)"
   ]
  },
  {
   "cell_type": "code",
   "execution_count": 67,
   "id": "71a18236-80f2-4566-9f88-9bf9fb378060",
   "metadata": {},
   "outputs": [
    {
     "data": {
      "text/plain": [
       "pandas.core.series.Series"
      ]
     },
     "execution_count": 67,
     "metadata": {},
     "output_type": "execute_result"
    }
   ],
   "source": [
    "type(df[\"Name\"])"
   ]
  },
  {
   "cell_type": "code",
   "execution_count": 68,
   "id": "1cfa2e1a-a713-47cc-a099-e77535f439b1",
   "metadata": {},
   "outputs": [
    {
     "data": {
      "text/plain": [
       "pandas.core.series.Series"
      ]
     },
     "execution_count": 68,
     "metadata": {},
     "output_type": "execute_result"
    }
   ],
   "source": [
    "type(df[\"Age\"])"
   ]
  },
  {
   "cell_type": "code",
   "execution_count": 69,
   "id": "4d021536-9fb2-49a8-a43c-db683703e6c4",
   "metadata": {},
   "outputs": [],
   "source": [
    "#column = variable = series"
   ]
  },
  {
   "cell_type": "markdown",
   "id": "69a82b6a-fb82-4a2e-a6cb-62c6664b1b33",
   "metadata": {},
   "source": [
    "### Statistics on dataframes"
   ]
  },
  {
   "cell_type": "code",
   "execution_count": 70,
   "id": "4f97b954-3724-4f6e-881f-cc42dbb2f2a3",
   "metadata": {},
   "outputs": [
    {
     "data": {
      "text/html": [
       "<div>\n",
       "<style scoped>\n",
       "    .dataframe tbody tr th:only-of-type {\n",
       "        vertical-align: middle;\n",
       "    }\n",
       "\n",
       "    .dataframe tbody tr th {\n",
       "        vertical-align: top;\n",
       "    }\n",
       "\n",
       "    .dataframe thead th {\n",
       "        text-align: right;\n",
       "    }\n",
       "</style>\n",
       "<table border=\"1\" class=\"dataframe\">\n",
       "  <thead>\n",
       "    <tr style=\"text-align: right;\">\n",
       "      <th></th>\n",
       "      <th>Name</th>\n",
       "      <th>Age</th>\n",
       "      <th>Field</th>\n",
       "      <th>Blood Group</th>\n",
       "      <th>Marks</th>\n",
       "    </tr>\n",
       "  </thead>\n",
       "  <tbody>\n",
       "    <tr>\n",
       "      <th>0</th>\n",
       "      <td>Meerab</td>\n",
       "      <td>19</td>\n",
       "      <td>Bioinformatics</td>\n",
       "      <td>A</td>\n",
       "      <td>95</td>\n",
       "    </tr>\n",
       "    <tr>\n",
       "      <th>1</th>\n",
       "      <td>Fatimah</td>\n",
       "      <td>8</td>\n",
       "      <td>none</td>\n",
       "      <td>AB</td>\n",
       "      <td>100</td>\n",
       "    </tr>\n",
       "    <tr>\n",
       "      <th>2</th>\n",
       "      <td>Zawiar</td>\n",
       "      <td>22</td>\n",
       "      <td>AI</td>\n",
       "      <td>B</td>\n",
       "      <td>90</td>\n",
       "    </tr>\n",
       "  </tbody>\n",
       "</table>\n",
       "</div>"
      ],
      "text/plain": [
       "      Name  Age           Field Blood Group  Marks\n",
       "0   Meerab   19  Bioinformatics           A     95\n",
       "1  Fatimah    8            none          AB    100\n",
       "2   Zawiar   22              AI           B     90"
      ]
     },
     "execution_count": 70,
     "metadata": {},
     "output_type": "execute_result"
    }
   ],
   "source": [
    "df            #displaying df"
   ]
  },
  {
   "cell_type": "code",
   "execution_count": 71,
   "id": "d1609a40-7b4b-46d9-8a95-a8a3c941b2a4",
   "metadata": {},
   "outputs": [
    {
     "data": {
      "text/plain": [
       "22"
      ]
     },
     "execution_count": 71,
     "metadata": {},
     "output_type": "execute_result"
    }
   ],
   "source": [
    "df.Age.max()                      #finding max value of a column of a dataframe"
   ]
  },
  {
   "cell_type": "code",
   "execution_count": 72,
   "id": "b8a46f29-711b-4909-9210-2590781d74c2",
   "metadata": {},
   "outputs": [
    {
     "data": {
      "text/plain": [
       "100"
      ]
     },
     "execution_count": 72,
     "metadata": {},
     "output_type": "execute_result"
    }
   ],
   "source": [
    "df[\"Marks\"].max()"
   ]
  },
  {
   "cell_type": "code",
   "execution_count": 73,
   "id": "9b11c1ff-0ffa-4e6a-a9ed-16c3dda973bc",
   "metadata": {},
   "outputs": [
    {
     "data": {
      "text/plain": [
       "Name           Zawiar\n",
       "Age                22\n",
       "Field            none\n",
       "Blood Group         B\n",
       "Marks             100\n",
       "dtype: object"
      ]
     },
     "execution_count": 73,
     "metadata": {},
     "output_type": "execute_result"
    }
   ],
   "source": [
    "df.max()    #finding max value of each int column of a database"
   ]
  },
  {
   "cell_type": "code",
   "execution_count": 74,
   "id": "aa4a7d42-3972-4e4c-b4e2-740d5454ce55",
   "metadata": {},
   "outputs": [
    {
     "data": {
      "text/plain": [
       "90"
      ]
     },
     "execution_count": 74,
     "metadata": {},
     "output_type": "execute_result"
    }
   ],
   "source": [
    "df.Marks.min()"
   ]
  },
  {
   "cell_type": "code",
   "execution_count": 75,
   "id": "496d05db-9624-46af-92e5-00c743bad1db",
   "metadata": {},
   "outputs": [
    {
     "data": {
      "text/plain": [
       "3"
      ]
     },
     "execution_count": 75,
     "metadata": {},
     "output_type": "execute_result"
    }
   ],
   "source": [
    "df.Field.count ()         #total values in column"
   ]
  },
  {
   "cell_type": "code",
   "execution_count": 76,
   "id": "994a76b2-0665-41ba-83cf-1388b2d3bcc5",
   "metadata": {},
   "outputs": [
    {
     "data": {
      "text/plain": [
       "5.0"
      ]
     },
     "execution_count": 76,
     "metadata": {},
     "output_type": "execute_result"
    }
   ],
   "source": [
    "df.Marks.std()"
   ]
  },
  {
   "cell_type": "code",
   "execution_count": 77,
   "id": "30b08369-8281-40f7-ad54-c52501808edd",
   "metadata": {},
   "outputs": [
    {
     "data": {
      "text/plain": [
       "count     3.000000\n",
       "mean     16.333333\n",
       "std       7.371115\n",
       "min       8.000000\n",
       "25%      13.500000\n",
       "50%      19.000000\n",
       "75%      20.500000\n",
       "max      22.000000\n",
       "Name: Age, dtype: float64"
      ]
     },
     "execution_count": 77,
     "metadata": {},
     "output_type": "execute_result"
    }
   ],
   "source": [
    "#Finding stat of all the int variables \n",
    "\n",
    "df.Age.describe()      #of a specific variable "
   ]
  },
  {
   "cell_type": "code",
   "execution_count": 78,
   "id": "fefeabcf-04b5-4c3b-aa97-98b2147ff14b",
   "metadata": {},
   "outputs": [
    {
     "data": {
      "text/html": [
       "<div>\n",
       "<style scoped>\n",
       "    .dataframe tbody tr th:only-of-type {\n",
       "        vertical-align: middle;\n",
       "    }\n",
       "\n",
       "    .dataframe tbody tr th {\n",
       "        vertical-align: top;\n",
       "    }\n",
       "\n",
       "    .dataframe thead th {\n",
       "        text-align: right;\n",
       "    }\n",
       "</style>\n",
       "<table border=\"1\" class=\"dataframe\">\n",
       "  <thead>\n",
       "    <tr style=\"text-align: right;\">\n",
       "      <th></th>\n",
       "      <th>Age</th>\n",
       "      <th>Marks</th>\n",
       "    </tr>\n",
       "  </thead>\n",
       "  <tbody>\n",
       "    <tr>\n",
       "      <th>count</th>\n",
       "      <td>3.000000</td>\n",
       "      <td>3.0</td>\n",
       "    </tr>\n",
       "    <tr>\n",
       "      <th>mean</th>\n",
       "      <td>16.333333</td>\n",
       "      <td>95.0</td>\n",
       "    </tr>\n",
       "    <tr>\n",
       "      <th>std</th>\n",
       "      <td>7.371115</td>\n",
       "      <td>5.0</td>\n",
       "    </tr>\n",
       "    <tr>\n",
       "      <th>min</th>\n",
       "      <td>8.000000</td>\n",
       "      <td>90.0</td>\n",
       "    </tr>\n",
       "    <tr>\n",
       "      <th>25%</th>\n",
       "      <td>13.500000</td>\n",
       "      <td>92.5</td>\n",
       "    </tr>\n",
       "    <tr>\n",
       "      <th>50%</th>\n",
       "      <td>19.000000</td>\n",
       "      <td>95.0</td>\n",
       "    </tr>\n",
       "    <tr>\n",
       "      <th>75%</th>\n",
       "      <td>20.500000</td>\n",
       "      <td>97.5</td>\n",
       "    </tr>\n",
       "    <tr>\n",
       "      <th>max</th>\n",
       "      <td>22.000000</td>\n",
       "      <td>100.0</td>\n",
       "    </tr>\n",
       "  </tbody>\n",
       "</table>\n",
       "</div>"
      ],
      "text/plain": [
       "             Age  Marks\n",
       "count   3.000000    3.0\n",
       "mean   16.333333   95.0\n",
       "std     7.371115    5.0\n",
       "min     8.000000   90.0\n",
       "25%    13.500000   92.5\n",
       "50%    19.000000   95.0\n",
       "75%    20.500000   97.5\n",
       "max    22.000000  100.0"
      ]
     },
     "execution_count": 78,
     "metadata": {},
     "output_type": "execute_result"
    }
   ],
   "source": [
    "df.describe()         #of all int variables "
   ]
  },
  {
   "cell_type": "code",
   "execution_count": 79,
   "id": "340c17a2-26c0-4b7c-82a3-c81d861f03b5",
   "metadata": {},
   "outputs": [
    {
     "data": {
      "text/html": [
       "<div>\n",
       "<style scoped>\n",
       "    .dataframe tbody tr th:only-of-type {\n",
       "        vertical-align: middle;\n",
       "    }\n",
       "\n",
       "    .dataframe tbody tr th {\n",
       "        vertical-align: top;\n",
       "    }\n",
       "\n",
       "    .dataframe thead th {\n",
       "        text-align: right;\n",
       "    }\n",
       "</style>\n",
       "<table border=\"1\" class=\"dataframe\">\n",
       "  <thead>\n",
       "    <tr style=\"text-align: right;\">\n",
       "      <th></th>\n",
       "      <th>Age</th>\n",
       "      <th>Marks</th>\n",
       "    </tr>\n",
       "  </thead>\n",
       "  <tbody>\n",
       "    <tr>\n",
       "      <th>count</th>\n",
       "      <td>3.000000</td>\n",
       "      <td>3.0</td>\n",
       "    </tr>\n",
       "    <tr>\n",
       "      <th>mean</th>\n",
       "      <td>16.333333</td>\n",
       "      <td>95.0</td>\n",
       "    </tr>\n",
       "    <tr>\n",
       "      <th>std</th>\n",
       "      <td>7.371115</td>\n",
       "      <td>5.0</td>\n",
       "    </tr>\n",
       "    <tr>\n",
       "      <th>min</th>\n",
       "      <td>8.000000</td>\n",
       "      <td>90.0</td>\n",
       "    </tr>\n",
       "    <tr>\n",
       "      <th>25%</th>\n",
       "      <td>13.500000</td>\n",
       "      <td>92.5</td>\n",
       "    </tr>\n",
       "    <tr>\n",
       "      <th>50%</th>\n",
       "      <td>19.000000</td>\n",
       "      <td>95.0</td>\n",
       "    </tr>\n",
       "    <tr>\n",
       "      <th>75%</th>\n",
       "      <td>20.500000</td>\n",
       "      <td>97.5</td>\n",
       "    </tr>\n",
       "    <tr>\n",
       "      <th>max</th>\n",
       "      <td>22.000000</td>\n",
       "      <td>100.0</td>\n",
       "    </tr>\n",
       "  </tbody>\n",
       "</table>\n",
       "</div>"
      ],
      "text/plain": [
       "             Age  Marks\n",
       "count   3.000000    3.0\n",
       "mean   16.333333   95.0\n",
       "std     7.371115    5.0\n",
       "min     8.000000   90.0\n",
       "25%    13.500000   92.5\n",
       "50%    19.000000   95.0\n",
       "75%    20.500000   97.5\n",
       "max    22.000000  100.0"
      ]
     },
     "execution_count": 79,
     "metadata": {},
     "output_type": "execute_result"
    }
   ],
   "source": [
    "stats=df.describe()        #storing in a variable \n",
    "stats"
   ]
  },
  {
   "cell_type": "code",
   "execution_count": 80,
   "id": "c696ffa3-3581-41aa-8638-27127709db4d",
   "metadata": {},
   "outputs": [
    {
     "name": "stdout",
     "output_type": "stream",
     "text": [
      "<class 'pandas.core.frame.DataFrame'>\n",
      "RangeIndex: 3 entries, 0 to 2\n",
      "Data columns (total 5 columns):\n",
      " #   Column       Non-Null Count  Dtype \n",
      "---  ------       --------------  ----- \n",
      " 0   Name         3 non-null      object\n",
      " 1   Age          3 non-null      int64 \n",
      " 2   Field        3 non-null      object\n",
      " 3   Blood Group  3 non-null      object\n",
      " 4   Marks        3 non-null      int64 \n",
      "dtypes: int64(2), object(3)\n",
      "memory usage: 252.0+ bytes\n"
     ]
    }
   ],
   "source": [
    "df.info()             #gives information of complete dataframe"
   ]
  },
  {
   "cell_type": "markdown",
   "id": "684c1235-e8a0-41b0-a980-ca46e0eb1b74",
   "metadata": {},
   "source": [
    "### Dealing with empty values while creating a dataframe\n",
    ">we import numpy and use Nan function : np.NaN"
   ]
  },
  {
   "cell_type": "code",
   "execution_count": 81,
   "id": "e8b0e6eb-e528-4c06-b676-f6d0b8a92d96",
   "metadata": {},
   "outputs": [
    {
     "data": {
      "text/html": [
       "<div>\n",
       "<style scoped>\n",
       "    .dataframe tbody tr th:only-of-type {\n",
       "        vertical-align: middle;\n",
       "    }\n",
       "\n",
       "    .dataframe tbody tr th {\n",
       "        vertical-align: top;\n",
       "    }\n",
       "\n",
       "    .dataframe thead th {\n",
       "        text-align: right;\n",
       "    }\n",
       "</style>\n",
       "<table border=\"1\" class=\"dataframe\">\n",
       "  <thead>\n",
       "    <tr style=\"text-align: right;\">\n",
       "      <th></th>\n",
       "      <th>Name</th>\n",
       "      <th>Age</th>\n",
       "    </tr>\n",
       "  </thead>\n",
       "  <tbody>\n",
       "    <tr>\n",
       "      <th>0</th>\n",
       "      <td>Meerab</td>\n",
       "      <td>19.0</td>\n",
       "    </tr>\n",
       "    <tr>\n",
       "      <th>1</th>\n",
       "      <td>Fatimah</td>\n",
       "      <td>8.0</td>\n",
       "    </tr>\n",
       "    <tr>\n",
       "      <th>2</th>\n",
       "      <td>Zawiar</td>\n",
       "      <td>22.0</td>\n",
       "    </tr>\n",
       "    <tr>\n",
       "      <th>3</th>\n",
       "      <td>Hassan</td>\n",
       "      <td>NaN</td>\n",
       "    </tr>\n",
       "  </tbody>\n",
       "</table>\n",
       "</div>"
      ],
      "text/plain": [
       "      Name   Age\n",
       "0   Meerab  19.0\n",
       "1  Fatimah   8.0\n",
       "2   Zawiar  22.0\n",
       "3   Hassan   NaN"
      ]
     },
     "execution_count": 81,
     "metadata": {},
     "output_type": "execute_result"
    }
   ],
   "source": [
    "import numpy as np\n",
    "df=pd.DataFrame ({   \"Name\" : [\"Meerab\", \"Fatimah\" ,\"Zawiar\",\"Hassan\"],\n",
    "    \"Age\"  : [ 19, 8, 22, np.NaN ] })\n",
    "df"
   ]
  },
  {
   "cell_type": "markdown",
   "id": "05d539bd-3f25-45f4-828f-3803179c9561",
   "metadata": {},
   "source": [
    "### Saving dataset to my computer after creating it on pandas"
   ]
  },
  {
   "cell_type": "code",
   "execution_count": 82,
   "id": "8c037794-e716-422c-998e-e6f17617ffdb",
   "metadata": {},
   "outputs": [],
   "source": [
    "df.to_csv(\"firstdataset.csv\" , index=False )    # save without index "
   ]
  },
  {
   "cell_type": "markdown",
   "id": "935da6b6-c8d5-4b13-aff6-4233f0ebd469",
   "metadata": {},
   "source": [
    "## Importing Dataset from Laptop "
   ]
  },
  {
   "cell_type": "code",
   "execution_count": 85,
   "id": "338aeaa1-3291-4cf2-82fe-41d621eb9ea0",
   "metadata": {},
   "outputs": [
    {
     "data": {
      "text/html": [
       "<div>\n",
       "<style scoped>\n",
       "    .dataframe tbody tr th:only-of-type {\n",
       "        vertical-align: middle;\n",
       "    }\n",
       "\n",
       "    .dataframe tbody tr th {\n",
       "        vertical-align: top;\n",
       "    }\n",
       "\n",
       "    .dataframe thead th {\n",
       "        text-align: right;\n",
       "    }\n",
       "</style>\n",
       "<table border=\"1\" class=\"dataframe\">\n",
       "  <thead>\n",
       "    <tr style=\"text-align: right;\">\n",
       "      <th></th>\n",
       "      <th>Name</th>\n",
       "      <th>Age</th>\n",
       "    </tr>\n",
       "  </thead>\n",
       "  <tbody>\n",
       "    <tr>\n",
       "      <th>0</th>\n",
       "      <td>Meerab</td>\n",
       "      <td>19.0</td>\n",
       "    </tr>\n",
       "    <tr>\n",
       "      <th>1</th>\n",
       "      <td>Fatimah</td>\n",
       "      <td>8.0</td>\n",
       "    </tr>\n",
       "    <tr>\n",
       "      <th>2</th>\n",
       "      <td>Zawiar</td>\n",
       "      <td>22.0</td>\n",
       "    </tr>\n",
       "    <tr>\n",
       "      <th>3</th>\n",
       "      <td>Hassan</td>\n",
       "      <td>NaN</td>\n",
       "    </tr>\n",
       "  </tbody>\n",
       "</table>\n",
       "</div>"
      ],
      "text/plain": [
       "      Name   Age\n",
       "0   Meerab  19.0\n",
       "1  Fatimah   8.0\n",
       "2   Zawiar  22.0\n",
       "3   Hassan   NaN"
      ]
     },
     "execution_count": 85,
     "metadata": {},
     "output_type": "execute_result"
    }
   ],
   "source": [
    "df3= pd.read_csv(\"firstdataset.csv\")\n",
    "df3"
   ]
  },
  {
   "cell_type": "markdown",
   "id": "edc9aa1d-133f-46d5-a064-a91c26185781",
   "metadata": {},
   "source": [
    "# Exploring Dataset"
   ]
  },
  {
   "cell_type": "code",
   "execution_count": 1,
   "id": "af58f07c-3300-41db-ac53-cac71dddcfd0",
   "metadata": {},
   "outputs": [],
   "source": [
    "#in Python2\n"
   ]
  },
  {
   "cell_type": "code",
   "execution_count": null,
   "id": "20ae5ce0-d853-4cbf-a5da-47e95dc449de",
   "metadata": {},
   "outputs": [],
   "source": []
  }
 ],
 "metadata": {
  "kernelspec": {
   "display_name": "Python 3 (ipykernel)",
   "language": "python",
   "name": "python3"
  },
  "language_info": {
   "codemirror_mode": {
    "name": "ipython",
    "version": 3
   },
   "file_extension": ".py",
   "mimetype": "text/x-python",
   "name": "python",
   "nbconvert_exporter": "python",
   "pygments_lexer": "ipython3",
   "version": "3.11.5"
  }
 },
 "nbformat": 4,
 "nbformat_minor": 5
}
