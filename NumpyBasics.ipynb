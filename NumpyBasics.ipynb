{
 "cells": [
  {
   "cell_type": "markdown",
   "id": "f194596e-d7a5-4cd7-822c-44ba9d214308",
   "metadata": {},
   "source": [
    "# NumPy Basics \n",
    "## Sorting\n",
    "### *Syntax:* \n",
    "np.sort(array_name , axis=1 , kind , order)"
   ]
  },
  {
   "cell_type": "code",
   "execution_count": 7,
   "id": "75106dfa-1f52-4497-9d58-48ac3c6ce55e",
   "metadata": {},
   "outputs": [],
   "source": [
    "import numpy as np"
   ]
  },
  {
   "cell_type": "code",
   "execution_count": 8,
   "id": "2fbf7a76-afc9-4331-8dd2-21587267abec",
   "metadata": {},
   "outputs": [
    {
     "data": {
      "text/plain": [
       "array([2, 6, 7, 8])"
      ]
     },
     "execution_count": 8,
     "metadata": {},
     "output_type": "execute_result"
    }
   ],
   "source": [
    "a=np.array ([2,7,8,6])                      #creating the array\n",
    "a.sort()                                    #sorting the array\n",
    "a                                           #displaying"
   ]
  },
  {
   "cell_type": "markdown",
   "id": "7391ad8a-edf0-480c-a04a-7bb31ab6bad7",
   "metadata": {},
   "source": [
    "## Concatenation (joining)\n",
    "**Concatinating 1d array**"
   ]
  },
  {
   "cell_type": "code",
   "execution_count": 62,
   "id": "b5d0b480-f245-44f1-b477-f21b1005e897",
   "metadata": {},
   "outputs": [
    {
     "data": {
      "text/plain": [
       "array([ 4, 76, 43, 23, 54, 88])"
      ]
     },
     "execution_count": 62,
     "metadata": {},
     "output_type": "execute_result"
    }
   ],
   "source": [
    "x=np.array([4,76,43])\n",
    "y=np.array([23,54,88])\n",
    "np.concatenate((x,y))            "
   ]
  },
  {
   "cell_type": "markdown",
   "id": "ce7b1599-013e-4bb6-ad30-116a5becfe2b",
   "metadata": {},
   "source": [
    "**Concatinating 2d array**"
   ]
  },
  {
   "cell_type": "code",
   "execution_count": 55,
   "id": "7daeb247-02ea-416f-9678-08221c57bc5e",
   "metadata": {},
   "outputs": [
    {
     "data": {
      "text/plain": [
       "array([[ 5, 44, 33],\n",
       "       [22, 56, 98],\n",
       "       [ 2,  6,  3],\n",
       "       [44, 90, 77]])"
      ]
     },
     "execution_count": 55,
     "metadata": {},
     "output_type": "execute_result"
    }
   ],
   "source": [
    "s=np.array([[5,44,33],[22,56,98]])\n",
    "t=np.array([[2,6,3],[44,90,77]])\n",
    "np.concatenate((s,t), axis=0)                #while concatinating we need to define axis while dealing with 2d array"
   ]
  },
  {
   "cell_type": "code",
   "execution_count": 54,
   "id": "d4ddac06-c4ee-4aa5-8262-a3b926e98b16",
   "metadata": {},
   "outputs": [
    {
     "data": {
      "text/plain": [
       "array([[ 5, 44, 33,  2,  6,  3],\n",
       "       [22, 56, 98, 44, 90, 77]])"
      ]
     },
     "execution_count": 54,
     "metadata": {},
     "output_type": "execute_result"
    }
   ],
   "source": [
    "s=np.array([[5,44,33],[22,56,98]])\n",
    "t=np.array([[2,6,3],[44,90,77]])\n",
    "np.concatenate((s,t), axis=1)                    "
   ]
  },
  {
   "cell_type": "markdown",
   "id": "67fc8829-ccf6-4cf5-b659-cb51e37495fc",
   "metadata": {},
   "source": [
    "##### Multiple arrays can be concatenated only when the length is same in 2d arrays\n",
    ">Add 1[ ] to make 1D array\n",
    ">\n",
    ">Add 2[ ] to make 2D array\n",
    ">\n",
    ">Add 3[ ] to make 3D array "
   ]
  },
  {
   "cell_type": "code",
   "execution_count": 64,
   "id": "ebf47971-4671-411e-ad90-9b84c355f3bc",
   "metadata": {},
   "outputs": [
    {
     "data": {
      "text/plain": [
       "array([[ 5, 44, 33],\n",
       "       [22, 56, 98],\n",
       "       [ 2,  6,  3]])"
      ]
     },
     "execution_count": 64,
     "metadata": {},
     "output_type": "execute_result"
    }
   ],
   "source": [
    "#concatinating 1d and 2d array\n",
    "o=np.array([[5,44,33],[22,56,98]])    \n",
    "p=np.array([[2,6,3]])\n",
    "np.concatenate((o,p), axis=0)                    "
   ]
  },
  {
   "cell_type": "markdown",
   "id": "10963e98-a7da-49a7-8fe3-c467b99b32c3",
   "metadata": {},
   "source": [
    "## Shape and Size of Array\n",
    "\n",
    "### **Shape:**\n",
    "The no. of dimensions and items in an array is defined by its shape.\n",
    "\n",
    "**Creating a 3 dimensional array:** Make two 2D arrays and join them with a square bracket to form 3D Array."
   ]
  },
  {
   "cell_type": "code",
   "execution_count": 20,
   "id": "07e847a6-daa4-4a37-9168-64ca0e7fb984",
   "metadata": {},
   "outputs": [
    {
     "data": {
      "text/plain": [
       "array([[[ 1,  2,  3,  4],\n",
       "        [ 5,  6,  7,  8]],\n",
       "\n",
       "       [[ 9, 10, 11, 12],\n",
       "        [13, 14, 15, 16]],\n",
       "\n",
       "       [[17, 18, 19, 20],\n",
       "        [21, 22, 23, 24]]])"
      ]
     },
     "execution_count": 20,
     "metadata": {},
     "output_type": "execute_result"
    }
   ],
   "source": [
    "a = np.array ([\n",
    "    [[1,2,3,4],\n",
    "     [5,6,7,8]],\n",
    "    [[9,10,11,12],\n",
    "     [13,14,15,16]],\n",
    "    [[17,18,19,20],\n",
    "     [21,22,23,24]]\n",
    "])\n",
    "    \n",
    "a"
   ]
  },
  {
   "cell_type": "markdown",
   "id": "237d4ef1-2d39-478f-a96e-dd09c60eda83",
   "metadata": {},
   "source": [
    "*Checking dimensions of an array*"
   ]
  },
  {
   "cell_type": "code",
   "execution_count": 21,
   "id": "cb4dcb40-4dd5-4d19-b9c5-9685666367e2",
   "metadata": {},
   "outputs": [
    {
     "data": {
      "text/plain": [
       "3"
      ]
     },
     "execution_count": 21,
     "metadata": {},
     "output_type": "execute_result"
    }
   ],
   "source": [
    "a.ndim"
   ]
  },
  {
   "cell_type": "markdown",
   "id": "44de5c25-a899-43d4-a1ce-d24c1002b8e9",
   "metadata": {},
   "source": [
    "*Checking shape of 1D Array*"
   ]
  },
  {
   "cell_type": "code",
   "execution_count": 28,
   "id": "4d820f32-dd77-4c82-9738-f82b027980a0",
   "metadata": {},
   "outputs": [
    {
     "data": {
      "text/plain": [
       "(3,)"
      ]
     },
     "execution_count": 28,
     "metadata": {},
     "output_type": "execute_result"
    }
   ],
   "source": [
    "x.shape                              #output (column)"
   ]
  },
  {
   "cell_type": "markdown",
   "id": "94538594-197b-4156-9602-a33710a9f804",
   "metadata": {},
   "source": [
    "*Checking shape of 2D Array*"
   ]
  },
  {
   "cell_type": "code",
   "execution_count": 29,
   "id": "58f8e9e9-6212-4fec-8644-e88e36a92ff4",
   "metadata": {},
   "outputs": [
    {
     "data": {
      "text/plain": [
       "(2, 3)"
      ]
     },
     "execution_count": 29,
     "metadata": {},
     "output_type": "execute_result"
    }
   ],
   "source": [
    "s.shape                              #output (row,column)"
   ]
  },
  {
   "cell_type": "markdown",
   "id": "d8d7d4d3-94ee-4e03-83c0-e15ac804c48f",
   "metadata": {},
   "source": [
    "*Checking shape of 3D Array*"
   ]
  },
  {
   "cell_type": "code",
   "execution_count": 25,
   "id": "fcd390e7-fc28-4d61-9f08-1fbc8f7a0fbd",
   "metadata": {},
   "outputs": [
    {
     "data": {
      "text/plain": [
       "(3, 2, 4)"
      ]
     },
     "execution_count": 25,
     "metadata": {},
     "output_type": "execute_result"
    }
   ],
   "source": [
    "a.shape                              #output( dimension,row,column)"
   ]
  },
  {
   "cell_type": "markdown",
   "id": "01e19994-f4e1-473a-bce9-fe7a3ed77c08",
   "metadata": {},
   "source": [
    "## **Size :**"
   ]
  },
  {
   "cell_type": "markdown",
   "id": "cc061c0d-5733-4557-92c2-a65e5d89582e",
   "metadata": {},
   "source": [
    "**Checking size of an array:**"
   ]
  },
  {
   "cell_type": "code",
   "execution_count": 33,
   "id": "2abd2f2e-7add-4386-bd2b-4fcbb22195d4",
   "metadata": {},
   "outputs": [
    {
     "data": {
      "text/plain": [
       "24"
      ]
     },
     "execution_count": 33,
     "metadata": {},
     "output_type": "execute_result"
    }
   ],
   "source": [
    "a.size                               #size is no. of elements in an array"
   ]
  },
  {
   "cell_type": "markdown",
   "id": "9ec782fb-9ec5-44d7-a4c3-3ae96e1bd972",
   "metadata": {},
   "source": [
    "**Changing dimension and shape of an array:**"
   ]
  },
  {
   "cell_type": "code",
   "execution_count": 35,
   "id": "f0dc8f9a-bca0-4bf3-9abe-7fef147e7bfa",
   "metadata": {},
   "outputs": [
    {
     "data": {
      "text/plain": [
       "1"
      ]
     },
     "execution_count": 35,
     "metadata": {},
     "output_type": "execute_result"
    }
   ],
   "source": [
    "x.ndim                               #finding dimension"
   ]
  },
  {
   "cell_type": "code",
   "execution_count": 37,
   "id": "bdafd2a4-db0c-4ec6-873e-09df065cdeea",
   "metadata": {},
   "outputs": [
    {
     "data": {
      "text/plain": [
       "array([ 4, 76, 43])"
      ]
     },
     "execution_count": 37,
     "metadata": {},
     "output_type": "execute_result"
    }
   ],
   "source": [
    "x                                    #displaying"
   ]
  },
  {
   "cell_type": "code",
   "execution_count": 40,
   "id": "31e15115-22af-4221-a46e-593134558999",
   "metadata": {},
   "outputs": [
    {
     "data": {
      "text/plain": [
       "2"
      ]
     },
     "execution_count": 40,
     "metadata": {},
     "output_type": "execute_result"
    }
   ],
   "source": [
    "x=np.array ([[ 4,76,43 ]])           #changing Dimension\n",
    "x.ndim                               #Displaying \"a\" to recheck whether dimension is changed or not"
   ]
  },
  {
   "cell_type": "markdown",
   "id": "310f8bfc-b801-429a-aaa0-e83c11d3d7f1",
   "metadata": {},
   "source": [
    "### Reshaping an array\n",
    "Be careful while reshaping that can the no. of elements you are dividing can they adopt into the reshape"
   ]
  },
  {
   "cell_type": "markdown",
   "id": "8d58fa6a-3ce0-4208-9330-32c470e7c139",
   "metadata": {},
   "source": [
    "s                                   #displaying s"
   ]
  },
  {
   "cell_type": "code",
   "execution_count": 52,
   "id": "ca16c0c1-10c8-4aae-8d6a-ad055ce4277f",
   "metadata": {},
   "outputs": [
    {
     "data": {
      "text/plain": [
       "array([[ 5, 44],\n",
       "       [33, 22],\n",
       "       [56, 98]])"
      ]
     },
     "execution_count": 52,
     "metadata": {},
     "output_type": "execute_result"
    }
   ],
   "source": [
    "b = s.reshape ((3,2))         \n",
    "b"
   ]
  },
  {
   "cell_type": "code",
   "execution_count": 67,
   "id": "b859787e-5015-43db-9e9d-f45861de803d",
   "metadata": {},
   "outputs": [
    {
     "data": {
      "text/plain": [
       "array([[1, 2],\n",
       "       [3, 4],\n",
       "       [5, 6]])"
      ]
     },
     "execution_count": 67,
     "metadata": {},
     "output_type": "execute_result"
    }
   ],
   "source": [
    "f= np.array ([1,2,3,4,5,6])        #only 6 elements can be divided into 3,2 shape\n",
    "e= f.reshape ((3,2))\n",
    "e"
   ]
  },
  {
   "cell_type": "code",
   "execution_count": 69,
   "id": "e3df49a5-2d85-425d-a88c-c26c8f6b5ad5",
   "metadata": {},
   "outputs": [
    {
     "data": {
      "text/plain": [
       "array([[ 5, 44],\n",
       "       [33, 22],\n",
       "       [56, 98]])"
      ]
     },
     "execution_count": 69,
     "metadata": {},
     "output_type": "execute_result"
    }
   ],
   "source": [
    "# another way of reshaping \n",
    "np.reshape(o, newshape= (3,2), order='A')"
   ]
  },
  {
   "cell_type": "markdown",
   "id": "0564c74a-f207-481f-880d-458bb22e5ea9",
   "metadata": {},
   "source": [
    "## Indexing or Slicing \n",
    "Taking one or two specific elements from an array. "
   ]
  },
  {
   "cell_type": "code",
   "execution_count": 75,
   "id": "eb935aff-c7d7-4a47-8e3a-268b0f04a9ec",
   "metadata": {},
   "outputs": [
    {
     "data": {
      "text/plain": [
       "array([1, 2, 3, 4, 5, 6])"
      ]
     },
     "execution_count": 75,
     "metadata": {},
     "output_type": "execute_result"
    }
   ],
   "source": [
    "f"
   ]
  },
  {
   "cell_type": "code",
   "execution_count": 77,
   "id": "a4f25890-ca98-4496-9bdc-674414a8e612",
   "metadata": {},
   "outputs": [
    {
     "data": {
      "text/plain": [
       "5"
      ]
     },
     "execution_count": 77,
     "metadata": {},
     "output_type": "execute_result"
    }
   ],
   "source": [
    "f[4]                            #indexing starts from 0  , print element at index 4"
   ]
  },
  {
   "cell_type": "code",
   "execution_count": 84,
   "id": "0ad3d3ac-c0de-4b4b-b810-512f3c7c96cc",
   "metadata": {},
   "outputs": [
    {
     "name": "stdout",
     "output_type": "stream",
     "text": [
      "[1 2 3]\n"
     ]
    }
   ],
   "source": [
    "print (f [0:3])                #print from start start to index 3"
   ]
  },
  {
   "cell_type": "code",
   "execution_count": 85,
   "id": "8381cc1b-c331-4e45-ad2d-04f9de10e04e",
   "metadata": {},
   "outputs": [
    {
     "name": "stdout",
     "output_type": "stream",
     "text": [
      "[3 4 5 6]\n"
     ]
    }
   ],
   "source": [
    "print (f [2: ])                #print from 2 to end"
   ]
  },
  {
   "cell_type": "code",
   "execution_count": 83,
   "id": "92995d52-6360-4a33-b32d-b3ce7d2a0b1d",
   "metadata": {},
   "outputs": [
    {
     "name": "stdout",
     "output_type": "stream",
     "text": [
      "[6 5 4 3 2 1]\n"
     ]
    }
   ],
   "source": [
    "print (f [ :: -1])             #print in reverse index "
   ]
  },
  {
   "cell_type": "markdown",
   "id": "241f18da-a461-46b8-8507-efb51ff5c8ab",
   "metadata": {},
   "source": [
    "### Slicing on the basis of condition"
   ]
  },
  {
   "cell_type": "code",
   "execution_count": 89,
   "id": "db15357d-bbcd-4ed5-bb03-14c3e4320340",
   "metadata": {},
   "outputs": [],
   "source": [
    "k = np.array ([12,23,13,45,32,14])"
   ]
  },
  {
   "cell_type": "code",
   "execution_count": 90,
   "id": "d2f438cd-28ff-44b3-b86a-7ff7df6fc178",
   "metadata": {},
   "outputs": [
    {
     "data": {
      "text/plain": [
       "array([12, 23, 13, 45, 32, 14])"
      ]
     },
     "execution_count": 90,
     "metadata": {},
     "output_type": "execute_result"
    }
   ],
   "source": [
    "(k[k>10])"
   ]
  },
  {
   "cell_type": "code",
   "execution_count": 93,
   "id": "3632313c-5386-48a7-9e84-bee443d9130a",
   "metadata": {},
   "outputs": [
    {
     "name": "stdout",
     "output_type": "stream",
     "text": [
      "[ True  True  True  True  True  True]\n"
     ]
    }
   ],
   "source": [
    "print(k>10)   #direct condition gives output in boolean"
   ]
  },
  {
   "cell_type": "code",
   "execution_count": 94,
   "id": "8f8ecf63-ccc7-4e7b-8a2d-d0142cbf4a28",
   "metadata": {},
   "outputs": [
    {
     "data": {
      "text/plain": [
       "array([12, 23, 13, 45, 32, 14])"
      ]
     },
     "execution_count": 94,
     "metadata": {},
     "output_type": "execute_result"
    }
   ],
   "source": [
    "greaterTen = k[k>10]   #storing values greater than 10 in a variable\n",
    "greaterTen"
   ]
  },
  {
   "cell_type": "markdown",
   "id": "4be6cef3-ea87-4a26-8323-49a6358a433d",
   "metadata": {},
   "source": [
    "## Some other operations"
   ]
  },
  {
   "cell_type": "code",
   "execution_count": 98,
   "id": "5c345735-e0df-4dae-8ed6-c9253d074696",
   "metadata": {},
   "outputs": [],
   "source": [
    "a1= np.array ([[1,2,3,4,5],[6,7,8,9,10]])\n",
    "a2= np.array ([[23,43,2,3,4],[1,2,45,6,5]])"
   ]
  },
  {
   "cell_type": "code",
   "execution_count": 100,
   "id": "551315b5-2cde-45e1-9b93-76946212efeb",
   "metadata": {},
   "outputs": [
    {
     "data": {
      "text/plain": [
       "array([[ 1,  2,  3,  4,  5],\n",
       "       [ 6,  7,  8,  9, 10],\n",
       "       [23, 43,  2,  3,  4],\n",
       "       [ 1,  2, 45,  6,  5]])"
      ]
     },
     "execution_count": 100,
     "metadata": {},
     "output_type": "execute_result"
    }
   ],
   "source": [
    "np.vstack ((a1,a2))              #stacking vertically "
   ]
  },
  {
   "cell_type": "code",
   "execution_count": 101,
   "id": "77cbeac1-00f6-4d80-a7fa-421ca2489364",
   "metadata": {},
   "outputs": [
    {
     "data": {
      "text/plain": [
       "array([[ 1,  2,  3,  4,  5, 23, 43,  2,  3,  4],\n",
       "       [ 6,  7,  8,  9, 10,  1,  2, 45,  6,  5]])"
      ]
     },
     "execution_count": 101,
     "metadata": {},
     "output_type": "execute_result"
    }
   ],
   "source": [
    "np.hstack ((a1,a2))             #stacking horizontaly"
   ]
  },
  {
   "cell_type": "markdown",
   "id": "438c3878-ad2b-47a7-a8e9-87f2b46a0137",
   "metadata": {},
   "source": [
    "### Splitting an Array "
   ]
  },
  {
   "cell_type": "code",
   "execution_count": 108,
   "id": "aed14c8e-6e48-4980-9f5a-ad463157c686",
   "metadata": {},
   "outputs": [
    {
     "data": {
      "text/plain": [
       "array([[ 1,  2,  3,  4,  5,  6,  7,  8,  9, 10, 11, 12],\n",
       "       [13, 14, 15, 16, 17, 18, 19, 20, 21, 22, 23, 24]])"
      ]
     },
     "execution_count": 108,
     "metadata": {},
     "output_type": "execute_result"
    }
   ],
   "source": [
    "l= np.arange(1,25).reshape(2,12)       #creating an array\n",
    "l"
   ]
  },
  {
   "cell_type": "code",
   "execution_count": 114,
   "id": "e0ad160f-ce55-49ad-9524-f9d7761d5e22",
   "metadata": {},
   "outputs": [
    {
     "data": {
      "text/plain": [
       "[array([4]), array([76]), array([43])]"
      ]
     },
     "execution_count": 114,
     "metadata": {},
     "output_type": "execute_result"
    }
   ],
   "source": [
    "np.hsplit(x,3)                         #explore the output in the next file"
   ]
  },
  {
   "cell_type": "markdown",
   "id": "17882337-c406-4225-bf7c-61f52a8cc376",
   "metadata": {},
   "source": [
    "#### continued .."
   ]
  },
  {
   "cell_type": "code",
   "execution_count": null,
   "id": "9a03684c-27a3-48f6-88dc-f10e49aee29a",
   "metadata": {},
   "outputs": [],
   "source": []
  }
 ],
 "metadata": {
  "kernelspec": {
   "display_name": "Python 3 (ipykernel)",
   "language": "python",
   "name": "python3"
  },
  "language_info": {
   "codemirror_mode": {
    "name": "ipython",
    "version": 3
   },
   "file_extension": ".py",
   "mimetype": "text/x-python",
   "name": "python",
   "nbconvert_exporter": "python",
   "pygments_lexer": "ipython3",
   "version": "3.11.5"
  }
 },
 "nbformat": 4,
 "nbformat_minor": 5
}
