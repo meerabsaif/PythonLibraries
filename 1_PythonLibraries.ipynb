{
 "cells": [
  {
   "cell_type": "markdown",
   "id": "e2a2f5f2-ff75-46b2-989c-9b8221961eab",
   "metadata": {},
   "source": [
    "# Libraries In Python\n",
    "\n"
   ]
  },
  {
   "cell_type": "markdown",
   "id": "8689f29c-6682-4b11-b893-faac7187d1bd",
   "metadata": {},
   "source": [
    "**Library** : A collection of precompiled codes that can be used later on in a program for some specific well-defined operations.These codes are written by people which we use directly according to our needs. We import libraries and use there functions.\n",
    "\n",
    "**Importance of libraries:**\n",
    "\n",
    "1.It makes programming simpler and convenient for the programmer. As we don’t need to write the same code again and again for different programs. \n",
    "\n",
    "2.Python libraries play a very vital role in fields of Machine Learning, Data Science, Data Visualization, etc\n",
    ">*For example :*\n",
    "Taking an example of performing mathematical calculations using python. "
   ]
  },
  {
   "cell_type": "code",
   "execution_count": 1,
   "id": "327066eb-dd01-419d-a3f0-c6c4e337ca41",
   "metadata": {},
   "outputs": [
    {
     "name": "stdout",
     "output_type": "stream",
     "text": [
      "(13, -1, 42)\n"
     ]
    }
   ],
   "source": [
    "def calc(a,b) :\n",
    " return a+b, a-b, a*b \n",
    "print (calc (6,7))"
   ]
  },
  {
   "cell_type": "markdown",
   "id": "83cd5a83-ca80-42c4-b7be-aa879ca5dda4",
   "metadata": {},
   "source": [
    ">Instead of performing all these function we can utilize a library to perform our task."
   ]
  },
  {
   "cell_type": "code",
   "execution_count": 2,
   "id": "20f9e529-d605-4b28-99c8-6f5fd8132c71",
   "metadata": {},
   "outputs": [
    {
     "data": {
      "text/plain": [
       "9.0"
      ]
     },
     "execution_count": 2,
     "metadata": {},
     "output_type": "execute_result"
    }
   ],
   "source": [
    "import math\n",
    "math.sqrt(81)"
   ]
  },
  {
   "cell_type": "markdown",
   "id": "7109b19c-8e59-47e5-a5ae-0a4f53b97ee4",
   "metadata": {},
   "source": [
    "### Libraries for Data Analysis in Python :\n",
    "1. numpy\n",
    "2. pandas\n",
    "3. matplotlib\n",
    "4. seaborn\n",
    "## 1. Numpy    \n",
    "1.NumPy (Numerical Python) is an open source Python library that’s used in almost every field of science and engineering.\n",
    "\n",
    "2.Numpy mainly deals with **array and metrices** and performing mathematical operations on arrays and metrices. \n",
    "\n",
    "3.It adds powerful data structures to Python that guarantee efficient calculations with arrays and matrices.\n",
    "\n",
    "4.NumPy gives you an enormous range of fast and efficient ways of creating arrays and manipulating numerical data inside them.\n",
    "\n",
    "### Importing Libraries \n",
    "\n",
    ">To access NumPy and its functions, we import it in our Python code like this:"
   ]
  },
  {
   "cell_type": "code",
   "execution_count": 11,
   "id": "a1680205-1f44-4bfb-898c-ca8e2d10a25d",
   "metadata": {},
   "outputs": [],
   "source": [
    "import numpy as np                #complete numpy library is imported\n",
    "from numpy import arange          #to import the specific function required from a library "
   ]
  },
  {
   "cell_type": "markdown",
   "id": "b5cf6650-ea8c-4cca-bd2a-e6a2085df902",
   "metadata": {},
   "source": [
    "## Array \n",
    "\n",
    "A central data structure of the NumPy library. \n",
    "\n",
    "An array is a grid of values and it contains information about the raw data, how to locate an element, and how to interpret an element.\n",
    "\n",
    "### creating arrays using numpy "
   ]
  },
  {
   "cell_type": "code",
   "execution_count": 4,
   "id": "7aa625b5-954d-4797-a87e-fc3b119679ae",
   "metadata": {},
   "outputs": [
    {
     "name": "stdout",
     "output_type": "stream",
     "text": [
      "[1 2 3 4]\n"
     ]
    }
   ],
   "source": [
    "np.array ([1,2,3,4])              # creating an array \n",
    "a=np.array ([1,2,3,4])            # storing array in variable \n",
    "print(a)                          # to print"
   ]
  },
  {
   "cell_type": "markdown",
   "id": "d3e141eb-6904-4650-b65b-d2f2bed93fcd",
   "metadata": {},
   "source": [
    "### Checking data type of an array\n",
    "\n",
    "The elements of array are all of the same type, referred to as the array dtype."
   ]
  },
  {
   "cell_type": "code",
   "execution_count": 5,
   "id": "2e9afa3d-fb0f-4180-ba1a-176ea467614b",
   "metadata": {},
   "outputs": [
    {
     "data": {
      "text/plain": [
       "numpy.ndarray"
      ]
     },
     "execution_count": 5,
     "metadata": {},
     "output_type": "execute_result"
    }
   ],
   "source": [
    "type(a)                           # nd means n dimensional array"
   ]
  },
  {
   "cell_type": "markdown",
   "id": "65ea7b15-9476-4cf3-8f51-3ebb75d8ecb0",
   "metadata": {},
   "source": [
    "### Indexing (discussed below in detail)\n",
    "\n",
    "We can access the elements in the array using square brackets. Indexing in NumPy starts at 0. "
   ]
  },
  {
   "cell_type": "code",
   "execution_count": 13,
   "id": "727aacd6-82e9-4e3f-87c6-535c0bca32a9",
   "metadata": {},
   "outputs": [
    {
     "name": "stdout",
     "output_type": "stream",
     "text": [
      "4\n"
     ]
    }
   ],
   "source": [
    "print(a[3])                          "
   ]
  },
  {
   "cell_type": "markdown",
   "id": "148835aa-4b1f-43bf-9494-1ad5048bbddd",
   "metadata": {},
   "source": [
    "### Concept of Dimensions \n",
    "\n",
    "An array is referred as “ndarray,” which is shorthand for “N-dimensional array.” An N-dimensional array is an array with any number of dimensions.\n",
    "\n",
    "A *dimension* is also known as **AXES**\n",
    "\n",
    "We donate *horizontal dimension* with 0. And *vertical dimension* with 1. \n",
    "\n",
    "Axis 0 = row \n",
    "\n",
    "Axis 1 = column\n",
    "\n",
    "An array can be either one, two or three dimensions. \n",
    ">**1 dimensional array:** [1,2,3,4,5] , this array has 5 columns and 1 row. 1d array either has 1 column or 1 row. 1d array has only one dimension which is zero. *VECTOR* is a single dimensional array.\n",
    "\n",
    ">**2 dimensional array:** It has multiple columns and multiple rows. 2d array has two axis which is 1. Array with two dimensions is also called a *MATRICE*. Such as :\n",
    ">\n",
    ">[[1.2.3.4.5],\n",
    ">\n",
    ">[6,7,8,9,10]]\n",
    ">\n",
    ">**3 dimensional array:** 3d or more than 3d array is known as *TENSOR*. Rubik's cube is an example of 3d array."
   ]
  },
  {
   "cell_type": "markdown",
   "id": "3269ba42-4a5d-4b9e-bcdd-243a3f8b33da",
   "metadata": {},
   "source": [
    "#### Length of an Array (the number of elements in an array)"
   ]
  },
  {
   "cell_type": "code",
   "execution_count": 8,
   "id": "e3116298-2f31-4c6c-8ee2-2437664bad3e",
   "metadata": {},
   "outputs": [
    {
     "data": {
      "text/plain": [
       "array([0., 0., 0., 0., 0., 0.])"
      ]
     },
     "execution_count": 8,
     "metadata": {},
     "output_type": "execute_result"
    }
   ],
   "source": [
    "np.zeros(6)                            #6 is the length of this array"
   ]
  },
  {
   "cell_type": "code",
   "execution_count": 9,
   "id": "40bc6281-1272-435b-b3e3-4e73974ebf22",
   "metadata": {},
   "outputs": [
    {
     "data": {
      "text/plain": [
       "array([1., 1., 1., 1., 1., 1., 1., 1.])"
      ]
     },
     "execution_count": 9,
     "metadata": {},
     "output_type": "execute_result"
    }
   ],
   "source": [
    "np.ones(8)                             #this will print array of ones with 8 length "
   ]
  },
  {
   "cell_type": "code",
   "execution_count": 14,
   "id": "80751239-4e9c-4d6a-89fc-1dda79c54908",
   "metadata": {},
   "outputs": [
    {
     "data": {
      "text/plain": [
       "array([6.91113383e-312, 6.91113383e-312, 6.91113382e-312])"
      ]
     },
     "execution_count": 14,
     "metadata": {},
     "output_type": "execute_result"
    }
   ],
   "source": [
    "np.empty(3)                            #creates an array whose initial content is random and depends on the state of the memory."
   ]
  },
  {
   "cell_type": "code",
   "execution_count": 16,
   "id": "00c9309e-e269-46b1-91cf-8c5dc36329c6",
   "metadata": {},
   "outputs": [
    {
     "data": {
      "text/plain": [
       "array([0, 1, 2, 3, 4])"
      ]
     },
     "execution_count": 16,
     "metadata": {},
     "output_type": "execute_result"
    }
   ],
   "source": [
    "np.arange(5)                          #creates an array with a range of elements we give"
   ]
  },
  {
   "cell_type": "code",
   "execution_count": 18,
   "id": "29f8344e-ab9f-4838-ad3c-781b605fe71e",
   "metadata": {},
   "outputs": [
    {
     "data": {
      "text/plain": [
       "array([ 0,  3,  6,  9, 12])"
      ]
     },
     "execution_count": 18,
     "metadata": {},
     "output_type": "execute_result"
    }
   ],
   "source": [
    "np.arange(0,15,3)                     #(start,end,steps) to create evenly spaced intervals"
   ]
  },
  {
   "cell_type": "code",
   "execution_count": 21,
   "id": "2b2a6c6b-ad61-4019-9dd9-521acadd4bef",
   "metadata": {},
   "outputs": [
    {
     "data": {
      "text/plain": [
       "array([10. , 12.5, 15. , 17.5, 20. ])"
      ]
     },
     "execution_count": 21,
     "metadata": {},
     "output_type": "execute_result"
    }
   ],
   "source": [
    "np.linspace(10,20,5)          #creates array with equally spaced(divided) values. Here, an array from 10 to 20 is created and splited into 5 equal parts "
   ]
  },
  {
   "cell_type": "markdown",
   "id": "eff1b9ca-68b8-412b-9a21-000075fde4d7",
   "metadata": {},
   "source": [
    "### Changing/specifying data type of data points : \n",
    "\n",
    ">The default datatype is floating point (np.float64).\n",
    ">To change data type :"
   ]
  },
  {
   "cell_type": "code",
   "execution_count": 22,
   "id": "d7311d01-14e4-49f7-a628-d93c00078244",
   "metadata": {},
   "outputs": [
    {
     "data": {
      "text/plain": [
       "array([1, 1, 1, 1, 1, 1], dtype=int64)"
      ]
     },
     "execution_count": 22,
     "metadata": {},
     "output_type": "execute_result"
    }
   ],
   "source": [
    "np.ones(6,dtype=np.int64)"
   ]
  },
  {
   "cell_type": "code",
   "execution_count": null,
   "id": "35f27f21-067c-49e0-bf8f-9500f71001f7",
   "metadata": {},
   "outputs": [],
   "source": []
  }
 ],
 "metadata": {
  "kernelspec": {
   "display_name": "Python 3 (ipykernel)",
   "language": "python",
   "name": "python3"
  },
  "language_info": {
   "codemirror_mode": {
    "name": "ipython",
    "version": 3
   },
   "file_extension": ".py",
   "mimetype": "text/x-python",
   "name": "python",
   "nbconvert_exporter": "python",
   "pygments_lexer": "ipython3",
   "version": "3.11.5"
  }
 },
 "nbformat": 4,
 "nbformat_minor": 5
}
